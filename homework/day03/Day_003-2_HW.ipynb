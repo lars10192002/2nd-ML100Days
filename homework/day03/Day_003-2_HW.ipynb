{
 "cells": [
  {
   "cell_type": "markdown",
   "metadata": {},
   "source": [
    "## 讀取 txt 檔\n",
    "* 請讀取 [text file](https://raw.githubusercontent.com/vashineyu/slides_and_others/master/tutorial/examples/imagenet_urls_examples.txt)\n",
    "* 懶人複製連結: https://raw.githubusercontent.com/vashineyu/slides_and_others/master/tutorial/examples/imagenet_urls_examples.txt\n",
    "\n",
    "### Hints: 使用 [Request](https://blog.gtwang.org/programming/python-requests-module-tutorial/) 抓取資料\n",
    "### Hints: [字串分割](http://www.runoob.com/python/att-string-split.html)\n",
    "### Hints: 例外處理: [Try-Except](https://pydoing.blogspot.com/2011/01/python-try.html)"
   ]
  },
  {
   "cell_type": "markdown",
   "metadata": {},
   "source": [
    "# [作業目標]\n",
    "- 試著讀取網頁上的圖片連結清單, 再以清單中網址讀取圖片"
   ]
  },
  {
   "cell_type": "markdown",
   "metadata": {},
   "source": [
    "# [作業重點]\n",
    "- 從網頁上讀取連結清單 (In[1], In[2])\n",
    "- 從清單網址讀取圖片 (In[6]~In[9], Out[6]~Out[9])"
   ]
  },
  {
   "cell_type": "code",
   "execution_count": 31,
   "metadata": {
    "collapsed": true
   },
   "outputs": [
    {
     "output_type": "execute_result",
     "data": {
      "text/plain": "'/Users/lucakao/PythonWorkspace/2nd-ML100Days'"
     },
     "metadata": {},
     "execution_count": 31
    }
   ],
   "source": [
    "import os\n",
    "# 設定 data_path\n",
    "dir_data = os.path.abspath(os.path.join(os.getcwd(), \"../..\"))\n",
    "dir_data\n"
   ]
  },
  {
   "cell_type": "code",
   "execution_count": 32,
   "metadata": {},
   "outputs": [],
   "source": [
    "# 根據需求引入正確的 Library[資料載到自己的電腦]\n",
    "\n",
    "from urllib.request import urlretrieve\n"
   ]
  },
  {
   "cell_type": "code",
   "execution_count": 35,
   "metadata": {
    "tags": []
   },
   "outputs": [
    {
     "output_type": "stream",
     "name": "stdout",
     "text": "ok!\n"
    }
   ],
   "source": [
    "# 下載檔案到 Data 資料夾，存成檔名 Homework.txt\n",
    "try:\n",
    "    os.makedirs( dir_data+'/data', exist_ok=True )\n",
    "    urlretrieve (\"https://raw.githubusercontent.com/vashineyu/slides_and_others/master/tutorial/examples/imagenet_urls_examples.txt\", dir_data+\"/data/Homework.txt\")\n",
    "    print(\"ok!\")\n",
    "except:\n",
    "    print('發生錯誤！')"
   ]
  },
  {
   "cell_type": "code",
   "execution_count": 89,
   "metadata": {
    "tags": [
     "outputPrepend"
    ]
   },
   "outputs": [
    {
     "output_type": "stream",
     "name": "stdout",
     "text": "pg\\n', 'n00433802_2920\\thttp://www.judnick.com/images/Gymnastics_NorthKorea_SongHuiOmAt72_small.jpg\\n', 'n00433802_2956\\thttp://static.flickr.com/121/312756730_e77863a57d.jpg\\n', 'n00433802_2994\\thttp://static.flickr.com/3001/3015766335_7930572a24.jpg\\n', 'n00433802_3020\\thttp://www.dag.nl/wp-content/uploads/2008/08/4870127_661_1219417076562-gym4.jpg\\n', 'n00433802_3026\\thttp://www.vailrec.com/images/tramp2.jpg\\n', 'n00433802_3050\\thttp://www.griffith.edu.au/sport/profiles/img/damian_01.jpg\\n', 'n00433802_3163\\thttp://www.pjcc.org/img/Gymnastics2-443.jpg\\n', 'n00433802_3195\\thttp://www.dallasnews.com/photostore/dmn.sports_carly_im/2_ns19carlywave.jpg\\n', 'n00433802_3211\\thttp://www.therecord.com/graphics/fitcity/gymnastics.jpg\\n', 'n00433802_3218\\thttp://studentweb.hunter.cuny.edu/~yroyter/images/rhythmic6.bmp\\n', 'n00433802_3239\\thttp://hisnet.net/reilly/SOJOURN/images/sports.gymnastics033.jpg\\n', 'n00433802_3286\\thttp://photos.cleveland.com/photos/plain-dealer/093b6c39dd36a22cb336c35a4374f4ed.jpg\\n', 'n00433802_3289\\thttp://graphics8.nytimes.com/images/2008/06/06/sports/olympics/06gymnastics.190.jpg\\n', 'n00433802_3306\\thttp://olympicgirls.net/sport-girls/sandra-izbasa-01.jpg\\n', 'n00433802_3314\\thttp://cdn-www.expertvillage.com/showImage.aspx?site=21&amp;fn=belly-dancing-gymnastics-arms.jpg\\n', 'n00433802_3328\\thttp://english.people.com.cn/mediafile/200808/22/F200808221425583209549841.jpg\\n', 'n00433802_3329\\thttp://images.danskin.com/gymnastics-girls-c.jpg\\n', 'n00433802_3365\\thttp://photos.cleveland.com/photos/plain-dealer/ec0589712f8237c817cd791cb1155644.jpg\\n', 'n00433802_3373\\thttp://www.5minutesformom.com/wp-content/uploads/2007/07/julia-gymnastics-trapeze.jpg\\n', 'n00433802_3386\\thttp://i28.photobucket.com/albums/c246/lilallyau/gymnastics.jpg\\n', 'n00433802_3403\\thttp://photos.al.com/photos/birminghamnews/1e1f4a0c1e54f48266c89f85f9a8e6fb.jpg\\n', 'n00433802_3424\\thttp://www.cbc.ca/gfx/images/sports/photos/2008/07/30/gymnastics-mhorizbar584-con.jpg\\n', 'n00433802_3479\\thttp://static.flickr.com/50/106822619_c0f41a2d79.jpg\\n', 'n00433802_3491\\thttp://200.88.113.180/Members/sara_alarcon/s3021209.jpg/image_preview\\n', 'n00433802_3494\\thttp://static.flickr.com/99/312755822_211853fbda.jpg\\n', 'n00433802_3522\\thttp://www.primawebtelevision.com/var/news_site/storage/images/primaweb_tv/sport/ginnastica_ritmica/11110-1-ita-IT/ginnastica_ritmica_large.jpg\\n', 'n00433802_3534\\thttp://1.bp.blogspot.com/_0yWBhOSu080/SK4aMXhfEFI/AAAAAAAACoU/YsLObbGL-IQ/s320/rhythmic+gymnastics+hoop.jpg\\n', 'n00433802_3587\\thttp://www.cctv.com/program/sportsscene/20070904/images/100850_1188874124077.jpg\\n', 'n00433802_3650\\thttp://www.awg.gl/pictures/sports/iqaluit/Gymnastics.jpg\\n', 'n00433802_3655\\thttp://www.westsidenewsonline.com/OldSite/westside/news/2002/0318/sports/brightraven.jpg\\n', 'n00433802_3871\\thttp://wwwdelivery.superstock.com/WI/223/1569/PreviewComp/SuperStock_1569R-155003.jpg\\n', 'n00433802_3882\\thttp://www.qasport.qld.gov.au/zone_files/Home_Page_Banner_(530x149px)/banner_gymnastics.jpg\\n', 'n00433802_3892\\thttp://static.flickr.com/3252/2651070016_0710aa0b45.jpg\\n', 'n00433802_3895\\thttp://photos.masslive.com/photos/ffb3314ac4a1116196844fe32a7d4e97.jpg\\n', 'n00433802_3902\\thttp://web.bu.edu/fitrec/graphics/photos/gymnastics.jpg\\n', 'n00433802_3904\\thttp://gallery.kelleyanne.com/albums/Gymnastics-Showcase/IMG_1217.jpg\\n', 'n00433802_3909\\thttp://www.trianglenews.org/wp-content/uploads/2008/11/img-6133.jpg\\n', 'n00433802_3926\\thttp://graphics.fansonly.com/photos/schools/gewa/sports/w-gym/auto_action/882601.jpeg\\n', 'n00433802_3932\\thttp://grfx.cstv.com/photos/schools/semo/sports/w-gym/auto_action/2490484.jpeg\\n', 'n00433802_3939\\thttp://www.goldmedalgymnasticsinc.com/sitebuildercontent/sitebuilderpictures/IMGP6090.jpg\\n', 'n00433802_3961\\thttp://www.duncanbarnes.com/images/sport/gymnastics_04.jpg\\n', 'n00433802_3988\\thttp://4.bp.blogspot.com/_HJlL_DB6GCU/SbRBbdv88sI/AAAAAAAAAO0/gqSycN7xNmg/s400/William+Gymnastics+006.JPG\\n', 'n00433802_3989\\thttp://www1.istockphoto.com/file_thumbview_approve/1665706/2/istockphoto_1665706_gymnastics_floor_excercise_blue.jpg\\n', 'n00433802_3990\\thttps://ce.byu.edu/cw/sportscamps/images/gym.jpg\\n', 'n00433802_4003\\thttp://www.judnick.com/images/Gymnastics_Luxembourg_Dussier_BB_72_small.jpg\\n', 'n00433802_4012\\thttp://blastmagazineblogs.com/sports/wp-content/uploads/2008/08/chinesegymnast.jpg\\n', 'n00433802_4016\\thttp://static.flickr.com/108/312755528_abd56e82a2.jpg\\n', 'n00433802_4028\\thttp://static.flickr.com/3281/3089450002_9bfd323ece.jpg\\n', 'n00433802_4071\\thttp://excelerationgymnastics.com/IMAGES/Gymnastics_Classes.jpg\\n', 'n00433802_4074\\thttp://filer.case.edu/~lxt21/pics/gymnastics_thumb.jpg\\n', 'n00433802_4080\\thttp://news.medill.northwestern.edu/uploadedImages/News/Chicago/Images/Science/Sports%20Festival%20gymnastics%20resize.jpg\\n', 'n00433802_4088\\thttp://a.bebo.com/app-image/6896353003/5411656627/PROFILE/i.yaquiz.com/img/q/u/08/04/13/87072744-RG28.jpg\\n', 'n00433802_4095\\thttp://static.flickr.com/3101/2542165884_738cbc6384.jpg\\n', 'n00433802_4096\\thttp://www.judnick.com/images/Gymnastics_France_Machado_BB_72_small.JPG\\n', 'n00433802_4110\\thttp://www.goldenbridge.ca/images/miriam.jpeg\\n', 'n00433802_4117\\thttp://www.chinadaily.com.cn/olympics/images/attachement/jpg/site1/20070726/001aa018ff9c0812e3622f.jpg\\n', 'n00433802_4121\\thttp://www.la84foundation.org/6oic/WebGames/reveal/Gymnastics.gif\\n', 'n00433802_4131\\thttp://static.flickr.com/3220/2462960539_f44960cc2a.jpg\\n', 'n00433802_4143\\thttp://www.leedsmet.ac.uk/carnegie/sport/gymnastics_160.jpg\\n', 'n00433802_4145\\thttp://photos.upi.com/story/w/78e1d659de12122b8ff6f51a983bb2a5/Olympic_Medal_W_Floor_Exercise_Gymnastics.jpg\\n', 'n00433802_4149\\thttp://www.judnick.com/images/Gymnastics_Perrysburg_CheriseMeriea100_small.jpg\\n', 'n00433802_4151\\thttp://www.newstead.school.nz/uploads/images/Sports/Gymnastics/tn_DSC00598.JPG\\n', 'n00433802_4156\\thttp://images.tvnz.co.nz/tvnz_images/sport/gymnastics/mens_jump_generic_d.jpg\\n', 'n00433802_4165\\thttp://hk.geocities.com/sportgymnastics/Khorkina-beam.jpg\\n', 'n00433802_4166\\thttp://69.39.86.90/~sportpei/admin/newspics/Damour%20web%20action.jpg\\n', 'n00433802_4171\\thttp://static.flickr.com/3443/3251852864_4aa2c89c3d.jpg\\n', 'n00433802_4191\\thttp://static.flickr.com/3611/3318203833_b8018d1880.jpg\\n', 'n00433802_4197\\thttp://sammamishreview.com/wp-content/uploads/2009/01/shs-ehs-gymnastics-200901.jpg\\n', 'n00433802_4222\\thttp://static.flickr.com/3109/2767485850_583b8fe9cb.jpg\\n', 'n00433802_4223\\thttp://www.indisain.com/source/sport/preview/gymnastics05.jpg\\n', 'n00433802_4225\\thttp://www.visualrian.com/storage/PreviewWM/3770/41/377041.jpg\\n', 'n00433802_4246\\thttp://static.flickr.com/59/167211421_d2a2046846.jpg\\n', 'n00433802_4256\\thttp://static.flickr.com/53/106163117_6a4a87134d.jpg\\n', 'n00433802_4267\\thttp://www.enquirer.com/editions/2000/07/30/beckerman.jpg\\n', 'n00433802_4272\\thttp://www.worth1000.com/entries/178000/178190WCEB_w.jpg\\n', 'n00433802_4278\\thttp://static.flickr.com/3253/3015774161_b14739e100.jpg\\n', 'n00433802_4291\\thttp://www.twigskids.com/Images/DSC_0012.JPG\\n', 'n00433802_4294\\thttp://static.flickr.com/2397/2334790332_ee8a8866da.jpg\\n', 'n00433802_4296\\thttp://static.flickr.com/3243/3007503326_cfff360ac0.jpg\\n', 'n00433802_4297\\thttp://static.flickr.com/3142/3016613456_89065b9290.jpg\\n', 'n00433802_4298\\thttp://static.flickr.com/3103/2770442883_96f767716f.jpg\\n', 'n00433802_4316\\thttp://www.salina-ks.gov/images/RecImages/Gymnastics%20Web%20Pg1.JPG\\n', 'n00433802_4328\\thttp://ivillage.petside.com/files/Petside/pbb/Olympics-gymnastics-freesty.jpg\\n', 'n00433802_4329\\thttp://static.flickr.com/3018/2344400801_9fe861711f.jpg\\n', 'n00433802_4331\\thttp://images.theage.com.au/ftage/ffximage/2008/05/21/qqGymnasts_wideweb__470x294,0.jpg\\n', 'n00433802_4336\\thttp://sdc.lboro.ac.uk/smaller_images/gymnastics-24.11.04.loughborough.uk634.jpg\\n', 'n00433802_4366\\thttp://johnrandolphmed.com/CPM/gymnastics.jpg\\n', 'n00433802_4370\\thttp://www.tobiahdeutsch.com/photogallery/gymnastics.jpg\\n', 'n00433802_4372\\thttp://www.gymnasticsrevolution.com/SplitLeap7amed.jpg\\n', 'n00433802_4374\\thttp://www.maderatribune.com/content/img/f196430/0930Gymnastics.jpg\\n', 'n00433802_4387\\thttp://www.bgolympic.org/fce/001/0010/bigimg/hud_gymnastics.jpg\\n', 'n00433802_4401\\thttp://photos.masslive.com/photos/55975ba13a48858456eff5d54943d412.jpg\\n', 'n00433802_4422\\thttp://plaza.ufl.edu/akathy/personal/images/sasha_gymnastics.jpg\\n', 'n00433802_4430\\thttps://www.wolverinesports.com/images/categories/gymnastics.JPG\\n', 'n00433802_4441\\thttp://static.flickr.com/3055/3088603737_c17d2f2d51.jpg\\n', 'n00433802_4461\\thttp://www.nesacademy.com/clips/mon.jpg\\n', 'n00433802_4462\\thttp://www.i-olympic.com/Image/200871521203851177801.jpg\\n', 'n00433802_4463\\thttp://www.gscgymcheer.com/Portals/0/images/girls/girls_team_1.jpg\\n', 'n00433802_4467\\thttp://static.flickr.com/13/92824864_650469eeb3.jpg\\n', 'n00433802_4469\\thttp://grfx.cstv.com/photos/schools/ust/sports/w-gym/auto_action/2818272.jpeg\\n', 'n00433802_4470\\thttp://static.flickr.com/31/90246875_0158971a12.jpg\\n', 'n00433802_4479\\thttp://www.tumbltrak.com/images/special/Parallet-Bars-Gymnastics-Dance.jpg\\n', 'n00433802_4486\\thttp://static.flickr.com/3140/3016592350_69b23bc74a.jpg\\n', 'n00433802_4494\\thttp://ninosrhythmicclub.com/images/Fiona_small.jpg\\n', 'n00433802_4497\\thttp://english.peopledaily.com.cn/mediafile/200808/17/P200808171916401016090662.jpg\\n', 'n00433802_4505\\thttp://static.flickr.com/141/339332720_1ba30a1f52.jpg\\n', 'n00433802_4506\\thttp://static.flickr.com/3564/3319132169_608b142eae.jpg\\n', 'n00433802_4507\\thttp://www.crossfit.com/journal/images/rings.jpg\\n', 'n00433802_4510\\thttp://media.collegepublisher.com/media/paper1146/stills/b5ke482l.jpg\\n', 'n00433802_4515\\thttp://candmfitness.com/cmf2%20gymnastics.jpg\\n', \"n00433802_4516\\thttp://static.guim.co.uk/Guardian/sport/gallery/2008/aug/11/olympics20081/GD8344045@Japan's-Koki-Sakamoto-206.jpg\\n\", 'n00433802_4522\\thttp://www.welovecolors.com/gift/images/leotards7001D.jpg\\n', 'n00433802_4548\\thttp://grfx.cstv.com/photos/schools/iowa/sports/w-gym/auto_action/1782064.jpeg\\n', 'n00433802_4550\\thttp://rickrushart.com/images/thumbnails/THUMBGymnastics.jpg\\n', 'n00433802_4565\\thttp://static.flickr.com/3099/2793311009_00029f99a5.jpg\\n', 'n00433802_4567\\thttp://static.flickr.com/3032/3088620789_97768c5e07.jpg\\n', 'n00433802_4568\\thttp://img02.beijing2008.cn/20080824/Img214580969.jpg\\n', 'n00433802_4575\\thttp://www3.pictures.gi.zimbio.com/Olympics+Day+1+Artistic+Gymnastics+04G0tgxYjRHl.jpg\\n', 'n00433802_4578\\thttp://www.swvoice.com/file/picture/66414/0/0/\\n', 'n00433802_4586\\thttp://static.flickr.com/3113/2771438289_b61634dd81.jpg\\n', 'n00433802_4601\\thttp://www.judnick.com/images/Gymnastics_Israel_CarmitBorian_72_small.jpg\\n', 'n00433802_4606\\thttp://www.canterbury.schoolsport.org.nz/sports/gymnastics/Gym%20bar.jpg\\n', 'n00433802_4609\\thttp://static.flickr.com/3178/3015763455_8313fbe848.jpg\\n', 'n00433802_4622\\thttp://www.jedavisphoto.com/sports/Gymnastics2.jpg\\n', 'n00433802_4635\\thttp://static.flickr.com/2170/2463105093_4b0df6a68d.jpg\\n', 'n00433802_4638\\thttp://www.wca.sport.bayer.com/img/content/historie/turnerriege_08_280.jpg\\n', 'n00433802_4664\\thttp://www.alegriarg.com/images/Sport1.jpg\\n', 'n00433802_4670\\thttp://farm4.static.flickr.com/3062/2949841419_0b209748aa.jpg?v=0\\n', 'n00433802_4676\\thttp://www.nancarrow-webdesk.com/warehouse/storage2/2007-w44/img.57556_t.jpg\\n', 'n00433802_4679\\thttp://www.internationalrhythmics.com/images/about_gymnastics03.jpg\\n', 'n00433802_4686\\thttp://www.gocamps.com/pics/lagymnasticsright.jpg\\n', 'n00433802_4707\\thttp://static.flickr.com/3056/2950686690_c459b04540.jpg\\n', 'n00433802_4709\\thttp://www.raisport.rai.it/RaiSport/pub/static/82200/20051005ginnasticaUKRAnnaBessonova4.jpg\\n', 'n00433802_4722\\thttp://static.flickr.com/3018/2766643341_203b2dbb77.jpg\\n', 'n00433802_4728\\thttp://static.flickr.com/3048/3016595546_840dbeeda7.jpg\\n', 'n00433802_4737\\thttp://static.squidoo.com/resize/squidoo_images/-1/lens2112391_1230902820rythmic_gymnastics.jpg\\n', 'n00433802_4745\\thttp://flathat.wm.edu/2003-04-25/gymnast.jpg\\n', 'n00433802_4746\\thttp://static.flickr.com/51/148396289_44f7ee6490.jpg\\n', 'n00433802_4754\\thttp://i1.trekearth.com/photos/4317/gymnastics-trekearth.jpg\\n', 'n00433802_4759\\thttp://static.flickr.com/3155/3015740297_f06b9431a9.jpg\\n', 'n00433802_4770\\thttp://www.glendale.k12.wi.us/Domains/glendalehills/UserImages/Glen%20Hills/CommunicationsSR/Suzy%20image%20folder/gymnastics%2022web.jpg\\n', 'n00433802_4777\\thttp://farm2.static.flickr.com/1033/960179479_5a884e270c_o.jpg\\n', 'n00433802_4778\\thttp://www.csparks.org/assets/photos/Gymnastics2.jpg\\n', 'n00433802_4781\\thttp://www.comaneci-salto.com/gallery/olympic/usa/carly2.jpg\\n', 'n00433802_4782\\thttp://static.flickr.com/129/319587793_82918a3149.jpg\\n', 'n00433802_4784\\thttp://static.flickr.com/193/452425777_1c564adddb.jpg\\n', 'n00433802_4785\\thttp://www.napervillegymnastics.com/lauren.jpg\\n', 'n00433802_4789\\thttp://www.tribeathletics.com/uploaded/images/storyimg5557.gif\\n', 'n00433802_4797\\thttp://static.flickr.com/3099/3154119151_a037afbbd5.jpg\\n', 'n00433802_4799\\thttp://static.flickr.com/3075/2775487382_c71b2341bb.jpg\\n', 'n00433802_4800\\thttp://static.flickr.com/3279/3089448318_fe8e45c3de.jpg\\n', 'n00433802_4809\\thttp://myrealitytelevision.com/wp-content/uploads/2008/08/sacramone_vault_gymnastics.jpg\\n', 'n00433802_4811\\thttp://graphics.fansonly.com/photos/schools/pac10/sports/w-gym/auto_action/839244.jpeg\\n', 'n00433802_4814\\thttp://www.multichannel.com/photo/76084-USgymnastics315.jpg\\n', 'n00433802_4815\\thttp://static.flickr.com/2018/2270488304_56a365d2b9.jpg\\n', 'n00433802_4816\\thttp://www.optimal-sports.com/images/jennifer_greene.jpg\\n', \"n00433802_4819\\thttp://www.mascsa.psu.edu/SAAB/thon2007/pics/thon07pics/Women's%20Gymnastics.JPG\\n\", 'n00433802_4823\\thttp://www.gscgymcheer.com/Portals/0/images/boys/boys_team_1.JPG\\n', 'n00433802_4826\\thttp://www.peakcheer.com/Gymnastics4-web.jpg\\n', 'n00433802_4830\\thttp://sportgymnastic.com/img_stuff/albums/Boys/tishonov_sep2007/normal_DSCN8974.jpg\\n', 'n00433802_4833\\thttp://img07.beijing2008.cn/20080813/Img214536453.jpg\\n', 'n00433802_4842\\thttp://www.edge247.com/usawg/images/FireFirstPagelowres.jpg\\n', 'n00433802_4850\\thttp://images.onset.freedom.com/alton/medium/kg2klz-306illinigymnastics.jpg\\n', 'n00433802_4852\\thttp://i2.sinaimg.cn/IT/cr/2008/0325/3350773820.jpg\\n', 'n00433802_4855\\thttp://img410.imageshack.us/img410/6215/duffygymnastics9ualy9.gif\\n', 'n00433802_4860\\thttp://www.idey.gob.mx/fotos/marzo_23_2007/gimnasia.jpg\\n', 'n00433802_4861\\thttp://photo.net/bboard-uploads/00Jk3B-34694684.jpg\\n', 'n00433802_4864\\thttp://www.ritmika.ca/aggpic1a.jpg\\n', 'n00433802_4879\\thttp://static.flickr.com/3207/3141498167_b5edbf1a2a.jpg\\n', 'n00433802_4885\\thttp://static.flickr.com/2013/2345227128_eecf5d807d.jpg\\n', 'n00433802_4888\\thttp://jrscience.wcp.muohio.edu/photos/DawnSusanGymnastics00.jpg\\n', 'n00433802_4901\\thttp://www.sru.edu/images/Gymnastics46.jpg\\n', 'n00433802_4903\\thttp://www.themaneater.com/media/2008/0304/photos/gymnastics040t.jpg\\n', 'n00433802_4917\\thttp://www.arhiva.serbia.sr.gov.yu/g3/images/gymnastics1909.jpg\\n', 'n00433802_4927\\thttp://www.midlothian.gov.uk/images/gym01.jpg\\n', 'n00433802_4932\\thttp://static.flickr.com/3054/2780921146_17d5554324.jpg\\n', 'n00433802_4936\\thttp://static.flickr.com/2318/1785874828_bc88c1f21c.jpg\\n', 'n00433802_4944\\thttp://www.tgaelite.com/media/Madgympicmisc.JPG\\n', 'n00433802_4948\\thttp://i40.photobucket.com/albums/e213/thekfc/gymnastics.jpg\\n', 'n00433802_4955\\thttp://static.flickr.com/3239/2774638687_ab181124ae.jpg\\n', 'n00433802_4957\\thttp://images.beijing2008.cn/20071204/Img214208671.jpg\\n', 'n00433802_4962\\thttp://static.flickr.com/3056/3015741727_e56b3615da.jpg\\n', 'n00433802_4964\\thttp://www.judnick.com/images/Gymnastics_GreatBritain_LouiseRedding_Indy_small.jpg\\n', 'n00433802_4968\\thttp://www.langleygymnastics.com/sitebuilder/images/team_pictures_090-465x343.jpg\\n', 'n00433802_4974\\thttp://www.saddlerockgym.com/img/boys-gymnastics.jpg\\n', 'n00433802_4979\\thttp://static.flickr.com/53/107046507_380c63b5d1.jpg\\n', 'n00433802_4984\\thttp://www.gatorcountry.com/images/uploads/other_sports/CastilloAmanda_090104_CBLaw.jpg\\n', 'n00433802_4986\\thttp://acroregion7.org/AlanaHelena.jpg\\n', 'n00433802_4988\\thttp://www.ticcamp.com/Photos/gymnastics.jpg\\n', 'n00433802_4989\\thttp://static.flickr.com/184/387322545_e7ec86411d.jpg\\n', 'n00433802_5005\\thttp://www.dkimages.com/discover/previews/1081/10293522.JPG\\n', 'n00433802_5011\\thttp://www.schicklerart.com/exhibitions/aleksandr_rodchenko/museum_series/rod_1/gifs/29Gymnastics.jpg\\n', 'n00433802_5013\\thttp://static.flickr.com/3042/3016582764_90f4848302.jpg\\n', 'n00433802_5021\\thttp://visualrian.com/storage/PreviewWM/3308/94/330894.jpg\\n', 'n00433802_5022\\thttp://static.flickr.com/2011/2366981690_217a09f2b9.jpg\\n', 'n00433802_5024\\thttp://www2.pictures.gi.zimbio.com/Olympic+Gymnastics+Team+Visits+KA+6Ad5jmj4vgDl.jpg\\n', 'n00433802_5028\\thttp://kids.nationalgeographic.com/staticfiles/NGS/NGKids/Media/Image/Photo/rhythmic-gymnastics-52571375-ga.jpg\\n', 'n00433802_5040\\thttp://i413.photobucket.com/albums/pp212/gymgirls_photos/AlinaKozichsplitleapVladimirRysBong.jpg\\n', 'n00433802_5045\\thttp://www2.pictures.gi.zimbio.com/2008+Olympic+Team+Trials+Gymnastics+Day+4+MrQbdU8-PB8l.jpg\\n', 'n00433802_5046\\thttp://images1.fanpop.com/images/photos/2000000/nastia-luikin-gymnastics-2065259-610-800.jpg\\n', 'n00433802_5048\\thttp://www.triadgymnastics.com/Teams/Junior%20Team%20028.jpg\\n', 'n00433802_5070\\thttp://home.global.co.za/~tyshler/pictures/gymnastics clubs.jpg\\n', 'n00433802_5076\\thttp://news.jongo.com/articles/07/0319/9500/21.jpg\\n', 'n00433802_5077\\thttp://static.flickr.com/3026/3016579222_83864c0732.jpg\\n', 'n00433802_5103\\thttp://www.grampianspyrenees.com.au/Page/Images/Gymnastics.bmp\\n', 'n00433802_5108\\thttp://www.graceclick.ca/images/Yorke1599_72dpi.jpg\\n', 'n00433802_5114\\thttp://photos.upi.com/story/w/c8b6912ae0806acd2ea827a86196abc0/Olympic_Medal_W_All-Around_Gymnastics.jpg\\n', 'n00433802_5123\\thttp://www3.pictures.gi.zimbio.com/2008+Olympic+Team+Trials+Gymnastics+Day+3+3WZrh31O-2al.jpg\\n', 'n00433802_5124\\thttp://static.flickr.com/3206/3015742771_eeb853057f.jpg\\n', 'n00433802_5130\\thttp://www.sportovniaerobik.cz/upload.en/9/98a6f894-b_1-img_7904.jpg\\n', 'n00433802_5136\\thttp://www.oasisgym.com/UploadImages/tn_PICT1796.JPG\\n', 'n00433802_5147\\thttp://static.flickr.com/2148/2463933378_024681a652.jpg\\n', 'n00433802_5153\\thttp://www.glasgowschoolofsportbellahoustonacademy.co.uk/Images/GymnasticsImages/2014%20Gymnasts%20G2014%20POSTERS%20018.JPG\\n', 'n00433802_5157\\thttp://static.flickr.com/3523/3318629730_4797b85533.jpg\\n', 'n00433802_5159\\thttp://static.flickr.com/179/420123133_2e40f7bf30.jpg\\n', 'n00433802_5161\\thttp://static.flickr.com/101/313434378_5d928b0058.jpg\\n', 'n00433802_5162\\thttp://www.ddgym.com/images/kidbounce.jpg\\n', 'n00433802_5167\\thttp://creativeplayrooms.com/gymnastics.jpg\\n', 'n00433802_5171\\thttp://static.flickr.com/3078/3089444592_73c677bb52.jpg\\n', 'n00433802_5179\\thttp://www.glendale.k12.wi.us/Domains/glendalehills/UserImages/Glen%20Hills/CommunicationsSR/Suzy%20image%20folder/gymnastics%2013web.jpg\\n', 'n00433802_5181\\thttp://media.thesunnews.com/smedia/2009/02/14/01/206-gymna06jbm.standalone.prod_affiliate.78.JPG\\n', 'n00433802_5189\\thttp://static.flickr.com/3451/3278255172_fbd2a52afe.jpg\\n', 'n00433802_5197\\thttp://grfx.cstv.com/photos/schools/afa/sports/m-gym/auto_action/2638217.jpeg\\n', 'n00433802_5202\\thttp://farm2.static.flickr.com/1130/960179413_0002e006f0.jpg?v=0\\n', 'n00433802_5204\\thttp://static.flickr.com/150/387324732_f8149d0c65.jpg\\n', 'n00433802_5208\\thttp://3.bp.blogspot.com/_9T2cRtlgHV0/SK55RHaybXI/AAAAAAAAAwY/VuzoyOGFARQ/s400/Eleni-Andriola-of-Greece4.jpg\\n', 'n00433802_5211\\thttp://www.loudoungymnastics.com/images/Girls_doing_split%20jpg.jpg\\n']\n"
    }
   ],
   "source": [
    "path = dir_data+\"/data/Homework.txt\"\n",
    "with open(path, 'r') as f:\n",
    "    data = f.readlines()\n",
    "\n",
    "print(data)"
   ]
  },
  {
   "cell_type": "code",
   "execution_count": 90,
   "metadata": {
    "tags": []
   },
   "outputs": [
    {
     "output_type": "stream",
     "name": "stdout",
     "text": "9995\n"
    },
    {
     "output_type": "execute_result",
     "data": {
      "text/plain": "20dier.jpg '],\n ['n00015388_29924 ',\n  ' http://farm4.static.flickr.com/3261/2896351553_02aae5d65f.jpg '],\n ['n00015388_29927 ',\n  ' http://media.zobrabant.nl:81/img/dyn/c1df7fe31185d378ca55d62cf46b9235_175x116.jpg '],\n ['n00015388_29946 ',\n  ' http://3.bp.blogspot.com/_hGJfT5Lmrqw/SUdyhCM1joI/AAAAAAAAFqg/_Ro1NMmBviI/s200/gas.jpg '],\n ['n00015388_29972 ',\n  ' http://www.uitmetkinderen.be/belgie/images-feestje/dierenrijk.jpg '],\n ['n00015388_30021 ', ' http://www.photophoto.cn/m10/018/056/0180560069.jpg '],\n ['n00015388_30031 ',\n  ' http://farm4.static.flickr.com/3137/2546264698_a49e1682dd.jpg '],\n ['n00015388_30042 ',\n  ' http://farm4.static.flickr.com/3176/2433586904_180fae9f14.jpg '],\n ['n00015388_30109 ',\n  ' http://farm3.static.flickr.com/2382/2113442785_679a23f539.jpg '],\n ['n00015388_30136 ',\n  ' http://img1.pconline.com.cn/piclib/200804/29/batch/1/1873/120948378146288znjn0jg3_medium.JPG '],\n ['n00015388_30189 ',\n  ' http://farm1.static.flickr.com/202/505892640_a098924240.jpg '],\n ['n00015388_30251 ',\n  ' http://www.bongo.nl/image_cache/107269_206_206_FSImage_1_dierenrijk_11.jpg '],\n ['n00015388_30252 ',\n  ' http://farm4.static.flickr.com/3089/3127474364_bec25f1958.jpg '],\n ['n00015388_30255 ',\n  ' http://farm1.static.flickr.com/231/499101460_309e9013f1.jpg '],\n ['n00015388_30321 ',\n  ' http://farm4.static.flickr.com/3290/2755566633_8e4433bdca.jpg '],\n ['n00015388_30328 ',\n  ' http://3.bp.blogspot.com/_PsQbeQ9K4-s/SSSYQKqgt4I/AAAAAAAAACc/hVJY54uW-Z0/s320/IMG_0628-740867.JPG '],\n ['n00015388_30396 ',\n  ' http://i56.photobucket.com/albums/g183/marciopop/animali/RSCN0081.jpg '],\n ['n00015388_30408 ', ' http://www.photophoto.cn/m72/018/056/0180560138.jpg '],\n ['n00015388_30414 ',\n  ' http://pig163.net/uploads/allimg/090310/116303K0E-1.jpg '],\n ['n00015388_30450 ',\n  ' http://farm3.static.flickr.com/2107/1828838910_91fba10c59.jpg '],\n ['n00015388_30488 ',\n  ' http://farm4.static.flickr.com/3175/2832051489_faa3c852f4.jpg '],\n ['n00015388_30538 ',\n  ' http://farm4.static.flickr.com/3273/2820539440_0cbeb7c35f.jpg '],\n ['n00015388_30602 ',\n  ' http://farm4.static.flickr.com/3284/2994054401_1a24ffceeb.jpg '],\n ['n00015388_30606 ',\n  ' http://farm2.static.flickr.com/1032/544435633_48614bb112.jpg '],\n ['n00015388_30694 ',\n  ' http://farm3.static.flickr.com/2088/2081400112_09eee798af.jpg '],\n ['n00015388_30697 ',\n  ' http://farm1.static.flickr.com/144/329107595_404c73be29.jpg '],\n ['n00015388_30800 ',\n  ' http://farm4.static.flickr.com/3605/3348984727_7562a5ed91.jpg '],\n ['n00015388_30863 ',\n  ' http://fotootjesvanannelies.web-log.nl/olifantfotootjes/images/2008/08/24/s6300295b.jpg '],\n ['n00015388_30916 ',\n  ' http://farm4.static.flickr.com/3008/2963015253_fc4aae3632.jpg '],\n ['n00015388_30999 ',\n  ' http://farm4.static.flickr.com/3226/2912003674_1393a40f5f.jpg '],\n ['n00015388_31010 ',\n  ' http://2.bp.blogspot.com/_0BrcOm6q2_Q/Sa0qG5cz_KI/AAAAAAAAAIw/kyldTnkhJIQ/s320/mamma+e+piccoli+nati+da+3+gg.JPG '],\n ['n00015388_31028 ',\n  ' http://farm3.static.flickr.com/2220/2055437512_6ccd4b5949.jpg '],\n ['n00015388_31042 ',\n  ' http://farm4.static.flickr.com/3592/3390046741_d3cb9b723a.jpg '],\n ['n00015388_31211 ',\n  ' http://farm1.static.flickr.com/180/375721005_010f2f0910.jpg '],\n ['n00015388_31267 ',\n  ' http://farm4.static.flickr.com/3050/2987835600_ecdcbfa4ed.jpg '],\n ['n00015388_31300 ',\n  ' http://farm4.static.flickr.com/3339/3307730163_5faa4668c3.jpg '],\n ['n00015388_31343 ',\n  ' http://farm4.static.flickr.com/3152/2669860883_43dd731d6b.jpg '],\n ['n00015388_31373 ',\n  ' http://farm2.static.flickr.com/1340/1479456974_4670fb97a0.jpg '],\n ['n00015388_31374 ',\n  ' http://farm4.static.flickr.com/3137/2994432799_5a0133452b.jpg '],\n ['n00015388_31472 ', ' http://www.photophoto.cn/m69/018/026/0180260447.jpg '],\n ['n00015388_31494 ',\n  ' http://farm2.static.flickr.com/1060/1427784482_d2bf7fad47.jpg '],\n ['n00015388_31559 ',\n  ' http://farm4.static.flickr.com/3579/3399346087_9451920968.jpg '],\n ['n00015388_31564 ',\n  ' http://www.dierenrijk.nl/uploads/media/620x248_Bruine_beer_zittend.jpg '],\n ['n00015388_31626 ',\n  ' http://farm4.static.flickr.com/3068/2846658991_1e4c281180.jpg '],\n ['n00015388_31640 ',\n  ' http://farm2.static.flickr.com/1358/1426249400_07f6411fb3.jpg '],\n ['n00015388_31720 ',\n  ' http://farm1.static.flickr.com/39/75179043_afbb398e91.jpg '],\n ['n00015388_31753 ',\n  ' http://www.fotoplatforma.pl/foto_galeria/2918_DSCN9702.jpg '],\n ['n00015388_31761 ',\n  ' http://farm4.static.flickr.com/3222/3118874674_f0fc508612.jpg '],\n ['n00015388_31841 ',\n  ' http://farm1.static.flickr.com/67/168404351_e89dfc0b6a.jpg '],\n ['n00015388_31888 ',\n  ' http://farm4.static.flickr.com/3102/2819720413_2b67b304f5.jpg '],\n ['n00015388_31916 ',\n  ' http://farm4.static.flickr.com/3073/2626053446_e6ebebba8c.jpg '],\n ['n00015388_31953 ',\n  ' http://farm4.static.flickr.com/3040/2846658793_394367c6a5.jpg '],\n ['n00015388_31968 ',\n  ' http://www.ed.nl/multimedia/archive/00778/beren_778209b.jpg '],\n ['n00015388_32006 ', ' http://www.photophoto.cn/m10/018/056/0180560065.jpg '],\n ['n00015388_32033 ',\n  ' http://farm3.static.flickr.com/2113/2252583296_1d49e632eb.jpg '],\n ['n00015388_32051 ',\n  ' http://farm4.static.flickr.com/3238/2495886880_3489478fbf.jpg '],\n ['n00015388_32066 ',\n  ' http://farm3.static.flickr.com/2295/2347006628_ff2fac0b05.jpg '],\n ['n00015388_32086 ',\n  ' http://farm4.static.flickr.com/3653/3412456200_8bd8dcb784.jpg '],\n ['n00015388_32142 ',\n  ' http://farm4.static.flickr.com/3444/3390060969_2b86eaf303.jpg '],\n ['n00015388_32155 ', ' http://static.blogo.it/ecoblog/Abbandonoanimali.jpg '],\n ['n00015388_32187 ',\n  ' http://farm4.static.flickr.com/3016/3056800768_b328743a5f.jpg '],\n ['n00015388_32253 ',\n  ' http://thec-factor.nl/userfiles/image/tunesie%20014.jpg '],\n ['n00015388_32266 ',\n  ' http://farm4.static.flickr.com/3123/3213330006_f424574de1.jpg '],\n ['n00015388_32330 ',\n  ' http://farm1.static.flickr.com/135/341205893_0820b090d8.jpg '],\n ['n00015388_32339 ',\n  ' http://farm1.static.flickr.com/127/338396112_42e30af61c.jpg '],\n ['n00015388_32359 ',\n  ' http://farm3.static.flickr.com/2232/2248062969_4a92e2902f.jpg '],\n ['n00015388_32360 ',\n  ' http://farm4.static.flickr.com/3210/2394223853_061e5bcc76.jpg '],\n ['n00015388_32400 ',\n  ' http://farm4.static.flickr.com/3176/2581949025_4276d486f1.jpg '],\n ['n00015388_32410 ',\n  ' http://img61.imageshack.us/img61/1751/temminckii01yq2.jpg '],\n ['n00015388_32439 ',\n  ' http://farm1.static.flickr.com/179/422429789_205dc658d0.jpg '],\n ['n00015388_32461 ',\n  ' http://farm4.static.flickr.com/3029/2912040772_a7a6b0dfd7.jpg '],\n ['n00015388_32522 ',\n  ' http://farm1.static.flickr.com/42/103035880_cf2bc64216.jpg '],\n ['n00015388_32534 ',\n  ' http://i274.photobucket.com/albums/jj260/leone-s-61/animali_buffi14.jpg '],\n ['n00015388_32536 ',\n  ' http://farm4.static.flickr.com/3139/2297645199_2c89b26a60.jpg '],\n ['n00015388_32542 ',\n  ' http://farm4.static.flickr.com/3165/2752179469_80403bdf15.jpg '],\n ['n00015388_32559 ',\n  ' http://farm1.static.flickr.com/53/171645727_32525f4385.jpg '],\n ['n00015388_32576 ',\n  ' http://farm3.static.flickr.com/2288/2330230570_fe073d7f8e.jpg '],\n ['n00015388_32689 ',\n  ' http://www.tipsvoortwee.nl/DagjeUit/Overdag/dierenrijk.jpg '],\n ['n00015388_32824 ',\n  ' http://farm4.static.flickr.com/3031/3046325486_0abd72ce14.jpg '],\n ['n00015388_32827 ',\n  ' http://farm4.static.flickr.com/3059/2628244959_745164d782.jpg '],\n ['n00015388_32855 ', ' http://www.ruthvanbeek.com/pics/konijn039316.jpg '],\n ['n00015388_32862 ',\n  ' http://farm4.static.flickr.com/3444/3390044151_416fa1027d.jpg '],\n ['n00015388_32914 ',\n  ' http://farm3.static.flickr.com/2116/1562903733_45fcbfcdb4.jpg '],\n ['n00015388_32915 ',\n  ' http://farm3.static.flickr.com/2164/2069371914_df23d408da.jpg '],\n ['n00015388_32957 ',\n  ' http://fotootjesvanannelies.web-log.nl/olifantfotootjes/images/2008/06/15/img_1667a.jpg '],\n ['n00015388_33000 ',\n  ' http://farm4.static.flickr.com/3139/2354524315_992cd61374.jpg '],\n ['n00015388_33040 ',\n  ' http://farm2.static.flickr.com/1068/528734135_2feff4e199.jpg '],\n ['n00015388_33043 ',\n  ' http://farm4.static.flickr.com/3388/3212483163_700187be8e.jpg '],\n ['n00015388_33057 ',\n  ' http://farm2.static.flickr.com/1054/827769401_761246de7f.jpg '],\n ['n00015388_33103 ',\n  ' http://farm4.static.flickr.com/3179/2546336342_c147629c5a.jpg '],\n ['n00015388_33128 ',\n  ' http://farm1.static.flickr.com/101/276615067_8be35ec3dc.jpg '],\n ['n00015388_33131 ',\n  ' http://farm4.static.flickr.com/3581/3370197575_998881d033.jpg '],\n ['n00015388_33132 ',\n  ' http://www.atran.eu/gallery2/d/49593-5/DierentuinDierenrijkEuropa.jpg '],\n ['n00015388_33162 ',\n  ' http://travel.maoming.cn/guangdong/h000/h19/img200701230109321.jpg '],\n ['n00015388_33224 ',\n  ' http://farm3.static.flickr.com/2146/2161656461_b86b433db1.jpg '],\n ['n00015388_33299 ',\n  ' http://farm4.static.flickr.com/3196/2908490589_8e72aa79bd.jpg '],\n ['n00015388_33304 ',\n  ' http://www.opvangaaenhunze.nl/contents/contents/media/joke.jpg '],\n ['n00015388_33465 ',\n  ' http://www.schooltv.nl/beeldbank/mmbase/images/1962762 '],\n ['n00015388_33510 ',\n  ' http://farm3.static.flickr.com/2334/2005160820_5ab5d458df.jpg '],\n ['n00015388_33596 ',\n  ' http://farm1.static.flickr.com/121/261669132_3ebde5c21d.jpg '],\n ['n00015388_33682 ',\n  ' http://files.splinder.com/482a33fb8371ea69869c3e43813dc63d.jpeg '],\n ['n00015388_33685 ',\n  ' http://farm3.static.flickr.com/2023/2289101472_17b9fbb529.jpg '],\n ['n00015388_33732 ',\n  ' http://farm4.static.flickr.com/3607/3390886140_ca35e9e81e.jpg '],\n ['n00015388_33803 ',\n  ' http://farm4.static.flickr.com/3095/2546264746_60b471f7b4.jpg '],\n ['n00015388_33852 ',\n  ' http://www.agneseginocchio.it/FotoNotizieGiorn/14foto%20news%20alto%20casertano/Pastore%20Tedesco%20abbandonato%20Alife%203.jpg '],\n ['n00015388_33884 ',\n  ' http://www.dispenser.rai.it/imgservizi/2005-05-18-1.jpg '],\n ['n00015388_34018 ',\n  ' http://farm4.static.flickr.com/3415/3414935539_dc8a386e83.jpg '],\n ['n00015388_34024 ',\n  ' http://farm4.static.flickr.com/3006/2774208035_07db799ccf.jpg '],\n ['n00015388_34057 ',\n  ' http://farm4.static.flickr.com/3657/3415738992_fecc303889.jpg '],\n ['n00015388_34060 ',\n  ' http://farm1.static.flickr.com/33/43256793_1ef9182e3a.jpg '],\n ['n00015388_34091 ',\n  ' http://www.sciencenet.cn/paper/upload/200819105410743.jpg '],\n ['n00015388_34127 ',\n  ' http://i0.sinaimg.cn/qc/ul/2007/0126/U1290P33DT20070126121150.jpg '],\n ['n00015388_34140 ',\n  ' http://farm2.static.flickr.com/1170/1343793573_080af9e9da.jpg '],\n ['n00015388_34187 ',\n  ' http://farm4.static.flickr.com/3126/2723745451_c23d22c85c.jpg '],\n ['n00015388_34202 ',\n  ' http://cimg2.163.com/catchpic/6/6C/6C0459A91F8FB6BA3FEA1AC976021A83.jpg '],\n ['n00015388_34325 ',\n  ' http://farm3.static.flickr.com/2270/2411411316_a7c2e2be4c.jpg '],\n ['n00015388_34343 ',\n  ' http://farm4.static.flickr.com/3098/2858029648_7c7cae65e2.jpg '],\n ['n00015388_34453 ',\n  ' http://farm4.static.flickr.com/3109/3118856450_d4bdd90e1c.jpg '],\n ['n00015388_34518 ',\n  ' http://farm1.static.flickr.com/143/344853366_02359a3183.jpg '],\n ['n00015388_34534 ',\n  ' http://farm1.static.flickr.com/32/93566039_799abb7bf3.jpg '],\n ['n00015388_34588 ',\n  ' http://farm4.static.flickr.com/3172/2638922212_8e0d7db724.jpg '],\n ['n00015388_34602 ',\n  ' http://farm4.static.flickr.com/3083/3118876710_ef13235e27.jpg '],\n ['n00015388_34626 ',\n  ' http://farm4.static.flickr.com/3221/2472779565_cfc8bbcd5b.jpg '],\n ['n00015388_34634 ',\n  ' http://arumi.blog.kataweb.it/files/photos/uncategorized/2007/05/22/pit_3.jpg '],\n ['n00015388_34667 ',\n  ' http://www.valinor.nl/schleich/images/boerderijdieren/eigenfotos/bertha.jpg '],\n ['n00015388_34734 ',\n  ' http://farm4.static.flickr.com/3023/2819611031_c922e27811.jpg '],\n ['n00015388_34792 ',\n  ' http://farm1.static.flickr.com/182/424344524_b2e68d2d8c.jpg '],\n ['n00015388_34846 ',\n  ' http://farm2.static.flickr.com/1100/760918382_ee7c576836.jpg '],\n ['n00015388_34887 ',\n  ' http://farm4.static.flickr.com/3061/3105020640_d4d083ba7b.jpg '],\n ['n00015388_34948 ',\n  ' http://farm3.static.flickr.com/2046/2272820021_d3c01a5e03.jpg '],\n ['n00015388_35022 ',\n  ' http://farm1.static.flickr.com/113/303420115_ad21165201.jpg '],\n ['n00015388_35027 ',\n  ' http://www.partijvoordedieren.nl/images/Muskusrat_Ondatra-zibethicus(1).jpg '],\n ['n00015388_35095 ',\n  ' http://farm4.static.flickr.com/3060/2584576300_87fa634bb3.jpg '],\n ['n00015388_35096 ',\n  ' http://farm1.static.flickr.com/129/341207543_c8531155e2.jpg '],\n ['n00015388_35165 ',\n  ' http://farm3.static.flickr.com/2376/2153004006_b484abbdc5.jpg '],\n ['n00015388_35191 ',\n  ' http://farm2.static.flickr.com/1262/1347826053_7df7460427.jpg '],\n ['n00015388_35195 ',\n  ' http://farm1.static.flickr.com/149/340839965_5728eed227.jpg '],\n ['n00015388_35239 ',\n  ' http://farm3.static.flickr.com/2076/2059245827_4a1b8af3eb.jpg '],\n ['n00015388_35318 ',\n  ' http://farm4.static.flickr.com/3173/3038421695_f2bd450c2d.jpg '],\n ['n00015388_35385 ',\n  ' http://farm2.static.flickr.com/1403/761861203_0c70ac36dd.jpg '],\n ['n00015388_35425 ', ' http://www.ponyhill.be/images/dier2_jpg.jpg '],\n ['n00015388_35450 ',\n  ' http://farm2.static.flickr.com/1375/1090950414_6ac8b81fe8.jpg '],\n ['n00015388_35488 ',\n  ' http://www.studio-evenaar.nl/dierenpark/images/kat-eur-wilde03.jpg '],\n ['n00015388_35505 ',\n  ' http://farm2.static.flickr.com/1387/1386573487_9b53b66772.jpg '],\n ['n00015388_35680 ',\n  ' http://farm3.static.flickr.com/2015/2180947420_fd21a2d19c.jpg '],\n ['n00015388_35803 ',\n  ' http://farm4.static.flickr.com/3203/2825684708_c4112b565c.jpg '],\n ['n00015388_35838 ',\n  ' http://farm3.static.flickr.com/2262/2217727380_f526754bee.jpg '],\n ['n00015388_35853 ',\n  ' http://www.schooltv.nl/beeldbank/mmbase/images/1962768 '],\n ['n00015388_35861 ',\n  ' http://farm4.static.flickr.com/3066/2459435369_1b860162c2.jpg '],\n ['n00015388_35876 ',\n  ' http://farm3.static.flickr.com/2053/2495322343_5108610780.jpg '],\n ['n00015388_35882 ',\n  ' http://farm4.static.flickr.com/3180/2825684628_f076abc0c8.jpg '],\n ['n00015388_35942 ',\n  ' http://farm2.static.flickr.com/1092/1414267073_9f6747b4ac.jpg '],\n ['n00015388_35944 ',\n  ' http://farm1.static.flickr.com/102/363393201_6bb9ee2fc7.jpg '],\n ['n00015388_35946 ',\n  ' http://farm4.static.flickr.com/3230/2900469815_7279b84dd7.jpg '],\n ['n00015388_35978 ',\n  ' http://www.emergenzanimali.com/files/page4_blog_entry617_1.jpg '],\n ['n00015388_36025 ',\n  ' http://farm4.static.flickr.com/3069/2825684514_8701e37e12.jpg '],\n ['n00015388_36223 ',\n  ' http://farm3.static.flickr.com/2057/1502728076_e25ddfc35b.jpg '],\n ['n00015388_36280 ',\n  ' http://farm3.static.flickr.com/2214/2054836038_f536e47b11.jpg '],\n ['n00015388_36318 ',\n  ' http://farm4.static.flickr.com/3270/2548162752_2061019603.jpg '],\n ['n00015388_36324 ',\n  ' http://farm4.static.flickr.com/3563/3325773468_d4714d959f.jpg '],\n ['n00015388_36380 ',\n  ' http://farm4.static.flickr.com/3070/2420392269_472a6e01a6.jpg '],\n ['n00015388_36402 ',\n  ' http://farm3.static.flickr.com/2100/2374346486_e577d9cb03.jpg '],\n ['n00015388_36416 ',\n  ' http://farm4.static.flickr.com/3065/2820448098_7ea2335ac6.jpg '],\n ['n00015388_36446 ',\n  ' http://farm4.static.flickr.com/3253/2808511834_074834cd5b.jpg '],\n ['n00015388_36645 ',\n  ' http://farm4.static.flickr.com/3065/2812815178_ac925fc409.jpg '],\n ['n00015388_36814 ',\n  ' http://farm4.static.flickr.com/3029/3070719704_b24b3f5315.jpg '],\n ['n00015388_36885 ',\n  ' http://farm1.static.flickr.com/137/353863560_b9665304b4.jpg '],\n ['n00015388_36950 ',\n  ' http://fotootjesvanannelies.web-log.nl/olifantfotootjes/images/2008/08/24/s6300296a.jpg '],\n ['n00015388_36973 ',\n  ' http://bp2.blogger.com/_gGHVCypP37E/RsIeL6xv7oI/AAAAAAAAAP8/BKl7SkOzK4I/s400/vleermuis.jpg '],\n ['n00015388_36977 ',\n  ' http://www.dagjewegblog.nl/uploads/Kattenkopweek-Nuenen.jpg '],\n ['n00015388_37086 ',\n  ' http://farm3.static.flickr.com/2360/2260310427_a4ac55bbb0.jpg '],\n ['n00015388_37129 ',\n  ' http://farm4.static.flickr.com/3317/3426945978_6704d6757c.jpg '],\n ['n00015388_37131 ',\n  ' http://farm4.static.flickr.com/3157/2495600639_b061507050.jpg '],\n ['n00015388_37170 ',\n  ' http://www.hollandaccent.nl/locaties/lok18/Website_Engels/Afbeeldingen/MBO-Dier-6.jpg '],\n ['n00015388_37183 ',\n  ' http://farm1.static.flickr.com/166/385684060_6d1ee6dc21.jpg '],\n ['n00015388_37186 ',\n  ' http://farm2.static.flickr.com/1252/1432862975_ced6d04835.jpg '],\n ['n00015388_37315 ',\n  ' http://amuseum.cdstm.cn/AMuseum/dongwu/images/01/010010007-1.jpg '],\n ['n00015388_37383 ',\n  ' http://farm4.static.flickr.com/3124/2902854166_89defdd692.jpg '],\n ['n00015388_37418 ',\n  ' http://rodentbe.free.fr/fotos/standaarden/standa24.jpg '],\n ['n00015388_37464 ',\n  ' http://farm4.static.flickr.com/3222/2796471935_8c56624577.jpg '],\n ['n00015388_37563 ',\n  ' http://farm1.static.flickr.com/15/69856872_a66b198dff.jpg '],\n ['n00015388_37582 ',\n  ' http://farm4.static.flickr.com/3098/3213329922_9c77cd367c.jpg '],\n ['n00015388_37584 ',\n  ' http://farm4.static.flickr.com/3062/2636810057_0c5b290c5b.jpg '],\n ['n00015388_37625 ',\n  ' http://www.nos.nl/nosjournaal/images/ijsbeer_dierenrijk_tcm44-373228.jpg '],\n ['n00015388_37627 ',\n  ' http://farm1.static.flickr.com/112/260490891_cf2d1c7be5.jpg '],\n ['n00015388_37650 ',\n  ' http://farm4.static.flickr.com/3076/2546264880_e33b226bed.jpg '],\n ['n00015388_37719 ',\n  ' http://farm1.static.flickr.com/78/185073845_6ede49fb9e.jpg '],\n ['n00015388_37763 ',\n  ' http://farm4.static.flickr.com/3215/3004562123_cd203a8186.jpg '],\n ['n00015388_37811 ',\n  ' http://farm3.static.flickr.com/2045/2318235230_b01646c862.jpg '],\n ['n00015388_37844 ',\n  ' http://farm1.static.flickr.com/168/378794138_e0658cedc7.jpg '],\n ['n00015388_37891 ',\n  ' http://farm4.static.flickr.com/3281/3118868206_a311659fee.jpg '],\n ['n00015388_37940 ',\n  ' http://farm4.static.flickr.com/3225/2851527863_4300a5afef.jpg '],\n ['n00015388_37948 ',\n  ' http://farm1.static.flickr.com/32/42879750_320572046e.jpg '],\n ['n00015388_37993 ',\n  ' http://3.bp.blogspot.com/_hGJfT5Lmrqw/SZhwUqlKkmI/AAAAAAAAHjQ/v-W5G_q-3sI/s200/257-09_2.jpg '],\n ['n00015388_38102 ',\n  ' http://farm4.static.flickr.com/3074/2912063492_8c3211f8f6.jpg '],\n ['n00015388_38138 ',\n  ' http://farm4.static.flickr.com/3123/2755563611_3123ee2099.jpg '],\n ['n00015388_38175 ',\n  ' http://farm4.static.flickr.com/3154/2424337812_0f787efa60.jpg '],\n ['n00015388_38223 ',\n  ' http://farm4.static.flickr.com/3194/2903401327_2b0da4625f.jpg '],\n ['n00015388_38244 ', ' http://www.bocconiavvelenati.it/spike.gif '],\n ['n00015388_38266 ',\n  ' http://farm4.static.flickr.com/3039/2820509046_3fb57efdf5.jpg '],\n ['n00015388_38326 ',\n  ' http://farm4.static.flickr.com/3205/3111462023_82f7a0e742.jpg '],\n ['n00015388_38444 ',\n  ' http://farm4.static.flickr.com/3048/2811542160_9636aec144.jpg '],\n ['n00015388_38479 ',\n  ' http://www.demorgen.be/static/FOTO/pe/9/9/9/media_xl_251949.jpg '],\n ['n00015388_38504 ',\n  ' http://farm3.static.flickr.com/2407/2141317399_23eca145a9.jpg '],\n ['n00015388_38516 ',\n  ' http://farm1.static.flickr.com/53/133840265_acfbad6abd.jpg '],\n ['n00015388_38551 ',\n  ' http://www.myopencity.it/upload/content/orig_a8b4130431e19e6d4f97e1e792febc69.jpg '],\n ['n00015388_38637 ',\n  ' http://farm4.static.flickr.com/3256/2890551945_873c65f400.jpg '],\n ['n00015388_38661 ',\n  ' http://farm4.static.flickr.com/3296/3017435136_32ae0b68a2.jpg '],\n ['n00015388_38713 ',\n  ' http://farm2.static.flickr.com/1370/1484128090_12837be7b0.jpg '],\n ['n00015388_38753 ',\n  ' http://www.uitinbrabant.nl/contentimages/Image/34583010.jpg '],\n ['n00015388_38762 ',\n  ' http://farm3.static.flickr.com/2030/2161788064_4356ff6d89.jpg '],\n ['n00015388_38902 ',\n  ' http://farm4.static.flickr.com/3273/3281019720_5db4049d96.jpg '],\n ['n00015388_38916 ',\n  ' http://farm1.static.flickr.com/79/278281016_d2371f8d15.jpg '],\n ['n00015388_38924 ',\n  ' http://farm4.static.flickr.com/3454/3390060023_b010d18c1b.jpg '],\n ['n00015388_39003 ',\n  ' http://farm4.static.flickr.com/3188/3118039009_ecc0ef08d4.jpg '],\n ...]"
     },
     "metadata": {},
     "execution_count": 90
    }
   ],
   "source": [
    "import pandas as pd \n",
    "data =[]\n",
    "with open(path, 'r') as f :\n",
    "    for line in f:\n",
    "        line = line.replace('\\t', ' , ')\n",
    "        line = line.replace('\\n', ' ').split(',')\n",
    "        data.append(line)\n",
    "print(len(data))\n",
    "data"
   ]
  },
  {
   "cell_type": "code",
   "execution_count": null,
   "metadata": {},
   "outputs": [],
   "source": []
  },
  {
   "cell_type": "code",
   "execution_count": 17,
   "metadata": {},
   "outputs": [],
   "source": [
    "\n",
    "## 假如我們不想把資料載到自己的電腦裡?\n",
    "# 把連結填入\n",
    "target_url = 'https://raw.githubusercontent.com/vashineyu/slides_and_others/master/tutorial/examples/imagenet_urls_examples.txt'"
   ]
  },
  {
   "cell_type": "code",
   "execution_count": 29,
   "metadata": {
    "collapsed": true,
    "tags": []
   },
   "outputs": [
    {
     "output_type": "stream",
     "name": "stdout",
     "text": "784594\n"
    },
    {
     "output_type": "execute_result",
     "data": {
      "text/plain": "'n00015388_157\\thttp://farm1.static.flickr.com/145/430300483_21e993670c.jpg\\nn00015388_238\\thttp://farm2'"
     },
     "metadata": {},
     "execution_count": 29
    }
   ],
   "source": [
    "import requests\n",
    "response = requests.get(target_url)\n",
    "data = response.text\n",
    "\n",
    "# 用 request 傳送回來的資料不會認得斷行符號\n",
    "print(len(data))\n",
    "# data\n",
    "data[0:100]"
   ]
  },
  {
   "cell_type": "code",
   "execution_count": 88,
   "metadata": {
    "collapsed": true,
    "tags": []
   },
   "outputs": [
    {
     "output_type": "error",
     "ename": "AttributeError",
     "evalue": "'list' object has no attribute 'split'",
     "traceback": [
      "\u001b[0;31m---------------------------------------------------------------------------\u001b[0m",
      "\u001b[0;31mAttributeError\u001b[0m                            Traceback (most recent call last)",
      "\u001b[0;32m<ipython-input-88-b2babeb45dde>\u001b[0m in \u001b[0;36m<module>\u001b[0;34m\u001b[0m\n\u001b[1;32m      2\u001b[0m \u001b[0msplit_tag\u001b[0m \u001b[0;34m=\u001b[0m \u001b[0;34m'\\t'\u001b[0m\u001b[0;34m\u001b[0m\u001b[0;34m\u001b[0m\u001b[0m\n\u001b[1;32m      3\u001b[0m \u001b[0;34m\u001b[0m\u001b[0m\n\u001b[0;32m----> 4\u001b[0;31m \u001b[0mdata\u001b[0m \u001b[0;34m=\u001b[0m \u001b[0mdata\u001b[0m\u001b[0;34m.\u001b[0m\u001b[0msplit\u001b[0m\u001b[0;34m(\u001b[0m\u001b[0msplit_tag\u001b[0m\u001b[0;34m)\u001b[0m\u001b[0;34m\u001b[0m\u001b[0;34m\u001b[0m\u001b[0m\n\u001b[0m\u001b[1;32m      5\u001b[0m \u001b[0mprint\u001b[0m\u001b[0;34m(\u001b[0m\u001b[0mlen\u001b[0m\u001b[0;34m(\u001b[0m\u001b[0mdata\u001b[0m\u001b[0;34m)\u001b[0m\u001b[0;34m)\u001b[0m\u001b[0;34m\u001b[0m\u001b[0;34m\u001b[0m\u001b[0m\n\u001b[1;32m      6\u001b[0m \u001b[0mdata\u001b[0m\u001b[0;34m\u001b[0m\u001b[0;34m\u001b[0m\u001b[0m\n",
      "\u001b[0;31mAttributeError\u001b[0m: 'list' object has no attribute 'split'"
     ]
    }
   ],
   "source": [
    "# 找到換行符號，用該符號做字串分割後，把它拿掉\n",
    "split_tag = '\\t'\n",
    "\n",
    "data = data.split(split_tag)\n",
    "print(len(data))\n",
    "data"
   ]
  },
  {
   "cell_type": "markdown",
   "metadata": {},
   "source": [
    "## 將 txt 轉成 pandas dataframe"
   ]
  },
  {
   "cell_type": "code",
   "execution_count": 92,
   "metadata": {
    "collapsed": true
   },
   "outputs": [
    {
     "output_type": "error",
     "ename": "AttributeError",
     "evalue": "'DataFrame' object has no attribute 'row'",
     "traceback": [
      "\u001b[0;31m---------------------------------------------------------------------------\u001b[0m",
      "\u001b[0;31mAttributeError\u001b[0m                            Traceback (most recent call last)",
      "\u001b[0;32m<ipython-input-92-4b1ae48abf81>\u001b[0m in \u001b[0;36m<module>\u001b[0;34m\u001b[0m\n\u001b[1;32m      3\u001b[0m \u001b[0;34m\u001b[0m\u001b[0m\n\u001b[1;32m      4\u001b[0m \u001b[0mdf\u001b[0m \u001b[0;34m=\u001b[0m \u001b[0mpd\u001b[0m\u001b[0;34m.\u001b[0m\u001b[0mDataFrame\u001b[0m\u001b[0;34m(\u001b[0m\u001b[0mdata\u001b[0m\u001b[0;34m[\u001b[0m\u001b[0;36m1\u001b[0m\u001b[0;34m:\u001b[0m\u001b[0;34m]\u001b[0m\u001b[0;34m)\u001b[0m\u001b[0;34m\u001b[0m\u001b[0;34m\u001b[0m\u001b[0m\n\u001b[0;32m----> 5\u001b[0;31m \u001b[0mdf\u001b[0m\u001b[0;34m.\u001b[0m\u001b[0mdrop\u001b[0m\u001b[0;34m(\u001b[0m\u001b[0mdf\u001b[0m\u001b[0;34m.\u001b[0m\u001b[0mrow\u001b[0m\u001b[0;34m[\u001b[0m\u001b[0;36m0\u001b[0m\u001b[0;34m]\u001b[0m\u001b[0;34m,\u001b[0m \u001b[0maxis\u001b[0m\u001b[0;34m=\u001b[0m\u001b[0;36m1\u001b[0m\u001b[0;34m)\u001b[0m\u001b[0;34m\u001b[0m\u001b[0;34m\u001b[0m\u001b[0m\n\u001b[0m\u001b[1;32m      6\u001b[0m \u001b[0;34m\u001b[0m\u001b[0m\n\u001b[1;32m      7\u001b[0m \u001b[0mdf\u001b[0m\u001b[0;34m.\u001b[0m\u001b[0mhead\u001b[0m\u001b[0;34m(\u001b[0m\u001b[0;36m5\u001b[0m\u001b[0;34m)\u001b[0m\u001b[0;34m\u001b[0m\u001b[0;34m\u001b[0m\u001b[0m\n",
      "\u001b[0;32m~/opt/anaconda3/lib/python3.7/site-packages/pandas/core/generic.py\u001b[0m in \u001b[0;36m__getattr__\u001b[0;34m(self, name)\u001b[0m\n\u001b[1;32m   5177\u001b[0m             \u001b[0;32mif\u001b[0m \u001b[0mself\u001b[0m\u001b[0;34m.\u001b[0m\u001b[0m_info_axis\u001b[0m\u001b[0;34m.\u001b[0m\u001b[0m_can_hold_identifiers_and_holds_name\u001b[0m\u001b[0;34m(\u001b[0m\u001b[0mname\u001b[0m\u001b[0;34m)\u001b[0m\u001b[0;34m:\u001b[0m\u001b[0;34m\u001b[0m\u001b[0;34m\u001b[0m\u001b[0m\n\u001b[1;32m   5178\u001b[0m                 \u001b[0;32mreturn\u001b[0m \u001b[0mself\u001b[0m\u001b[0;34m[\u001b[0m\u001b[0mname\u001b[0m\u001b[0;34m]\u001b[0m\u001b[0;34m\u001b[0m\u001b[0;34m\u001b[0m\u001b[0m\n\u001b[0;32m-> 5179\u001b[0;31m             \u001b[0;32mreturn\u001b[0m \u001b[0mobject\u001b[0m\u001b[0;34m.\u001b[0m\u001b[0m__getattribute__\u001b[0m\u001b[0;34m(\u001b[0m\u001b[0mself\u001b[0m\u001b[0;34m,\u001b[0m \u001b[0mname\u001b[0m\u001b[0;34m)\u001b[0m\u001b[0;34m\u001b[0m\u001b[0;34m\u001b[0m\u001b[0m\n\u001b[0m\u001b[1;32m   5180\u001b[0m \u001b[0;34m\u001b[0m\u001b[0m\n\u001b[1;32m   5181\u001b[0m     \u001b[0;32mdef\u001b[0m \u001b[0m__setattr__\u001b[0m\u001b[0;34m(\u001b[0m\u001b[0mself\u001b[0m\u001b[0;34m,\u001b[0m \u001b[0mname\u001b[0m\u001b[0;34m,\u001b[0m \u001b[0mvalue\u001b[0m\u001b[0;34m)\u001b[0m\u001b[0;34m:\u001b[0m\u001b[0;34m\u001b[0m\u001b[0;34m\u001b[0m\u001b[0m\n",
      "\u001b[0;31mAttributeError\u001b[0m: 'DataFrame' object has no attribute 'row'"
     ]
    }
   ],
   "source": [
    "import pandas as pd\n",
    "\n",
    "\n",
    "df = pd.DataFrame(data[1:])\n",
    "df.drop(df.row[0], axis=1)\n",
    "\n",
    "df.head(5)\n"
   ]
  },
  {
   "cell_type": "code",
   "execution_count": 79,
   "metadata": {},
   "outputs": [
    {
     "output_type": "execute_result",
     "data": {
      "text/plain": "                                                   1\n0   http://farm2.static.flickr.com/1005/335296068...",
      "text/html": "<div>\n<style scoped>\n    .dataframe tbody tr th:only-of-type {\n        vertical-align: middle;\n    }\n\n    .dataframe tbody tr th {\n        vertical-align: top;\n    }\n\n    .dataframe thead th {\n        text-align: right;\n    }\n</style>\n<table border=\"1\" class=\"dataframe\">\n  <thead>\n    <tr style=\"text-align: right;\">\n      <th></th>\n      <th>1</th>\n    </tr>\n  </thead>\n  <tbody>\n    <tr>\n      <th>0</th>\n      <td>http://farm2.static.flickr.com/1005/335296068...</td>\n    </tr>\n  </tbody>\n</table>\n</div>"
     },
     "metadata": {},
     "execution_count": 79
    }
   ],
   "source": [
    "\n",
    "\n",
    "df.iloc[0:1,1:2]"
   ]
  },
  {
   "cell_type": "markdown",
   "metadata": {},
   "source": [
    "## 讀取圖片，請讀取上面 data frame 中的前 5 張圖片"
   ]
  },
  {
   "cell_type": "code",
   "execution_count": 67,
   "metadata": {
    "collapsed": true
   },
   "outputs": [
    {
     "output_type": "error",
     "ename": "InvalidSchema",
     "evalue": "No connection adapters were found for '1\n0   http://farm2.static.flickr.com/1005/335296068...'",
     "traceback": [
      "\u001b[0;31m---------------------------------------------------------------------------\u001b[0m",
      "\u001b[0;31mInvalidSchema\u001b[0m                             Traceback (most recent call last)",
      "\u001b[0;32m<ipython-input-67-35f48b63ee50>\u001b[0m in \u001b[0;36m<module>\u001b[0;34m\u001b[0m\n\u001b[1;32m      7\u001b[0m \u001b[0mfirst_link\u001b[0m \u001b[0;34m=\u001b[0m \u001b[0mdf\u001b[0m\u001b[0;34m.\u001b[0m\u001b[0miloc\u001b[0m\u001b[0;34m[\u001b[0m\u001b[0;36m0\u001b[0m\u001b[0;34m:\u001b[0m\u001b[0;36m1\u001b[0m\u001b[0;34m,\u001b[0m\u001b[0;36m1\u001b[0m\u001b[0;34m:\u001b[0m\u001b[0;36m2\u001b[0m\u001b[0;34m]\u001b[0m\u001b[0;34m\u001b[0m\u001b[0;34m\u001b[0m\u001b[0m\n\u001b[1;32m      8\u001b[0m \u001b[0;34m\u001b[0m\u001b[0m\n\u001b[0;32m----> 9\u001b[0;31m \u001b[0mresponse\u001b[0m \u001b[0;34m=\u001b[0m \u001b[0mrequests\u001b[0m\u001b[0;34m.\u001b[0m\u001b[0mget\u001b[0m\u001b[0;34m(\u001b[0m\u001b[0mfirst_link\u001b[0m\u001b[0;34m)\u001b[0m\u001b[0;34m\u001b[0m\u001b[0;34m\u001b[0m\u001b[0m\n\u001b[0m\u001b[1;32m     10\u001b[0m \u001b[0mimg\u001b[0m \u001b[0;34m=\u001b[0m \u001b[0mImage\u001b[0m\u001b[0;34m.\u001b[0m\u001b[0mopen\u001b[0m\u001b[0;34m(\u001b[0m\u001b[0mBytesIO\u001b[0m\u001b[0;34m(\u001b[0m\u001b[0mresponse\u001b[0m\u001b[0;34m.\u001b[0m\u001b[0mcontent\u001b[0m\u001b[0;34m)\u001b[0m\u001b[0;34m)\u001b[0m\u001b[0;34m\u001b[0m\u001b[0;34m\u001b[0m\u001b[0m\n\u001b[1;32m     11\u001b[0m \u001b[0;34m\u001b[0m\u001b[0m\n",
      "\u001b[0;32m~/opt/anaconda3/lib/python3.7/site-packages/requests/api.py\u001b[0m in \u001b[0;36mget\u001b[0;34m(url, params, **kwargs)\u001b[0m\n\u001b[1;32m     73\u001b[0m \u001b[0;34m\u001b[0m\u001b[0m\n\u001b[1;32m     74\u001b[0m     \u001b[0mkwargs\u001b[0m\u001b[0;34m.\u001b[0m\u001b[0msetdefault\u001b[0m\u001b[0;34m(\u001b[0m\u001b[0;34m'allow_redirects'\u001b[0m\u001b[0;34m,\u001b[0m \u001b[0;32mTrue\u001b[0m\u001b[0;34m)\u001b[0m\u001b[0;34m\u001b[0m\u001b[0;34m\u001b[0m\u001b[0m\n\u001b[0;32m---> 75\u001b[0;31m     \u001b[0;32mreturn\u001b[0m \u001b[0mrequest\u001b[0m\u001b[0;34m(\u001b[0m\u001b[0;34m'get'\u001b[0m\u001b[0;34m,\u001b[0m \u001b[0murl\u001b[0m\u001b[0;34m,\u001b[0m \u001b[0mparams\u001b[0m\u001b[0;34m=\u001b[0m\u001b[0mparams\u001b[0m\u001b[0;34m,\u001b[0m \u001b[0;34m**\u001b[0m\u001b[0mkwargs\u001b[0m\u001b[0;34m)\u001b[0m\u001b[0;34m\u001b[0m\u001b[0;34m\u001b[0m\u001b[0m\n\u001b[0m\u001b[1;32m     76\u001b[0m \u001b[0;34m\u001b[0m\u001b[0m\n\u001b[1;32m     77\u001b[0m \u001b[0;34m\u001b[0m\u001b[0m\n",
      "\u001b[0;32m~/opt/anaconda3/lib/python3.7/site-packages/requests/api.py\u001b[0m in \u001b[0;36mrequest\u001b[0;34m(method, url, **kwargs)\u001b[0m\n\u001b[1;32m     58\u001b[0m     \u001b[0;31m# cases, and look like a memory leak in others.\u001b[0m\u001b[0;34m\u001b[0m\u001b[0;34m\u001b[0m\u001b[0;34m\u001b[0m\u001b[0m\n\u001b[1;32m     59\u001b[0m     \u001b[0;32mwith\u001b[0m \u001b[0msessions\u001b[0m\u001b[0;34m.\u001b[0m\u001b[0mSession\u001b[0m\u001b[0;34m(\u001b[0m\u001b[0;34m)\u001b[0m \u001b[0;32mas\u001b[0m \u001b[0msession\u001b[0m\u001b[0;34m:\u001b[0m\u001b[0;34m\u001b[0m\u001b[0;34m\u001b[0m\u001b[0m\n\u001b[0;32m---> 60\u001b[0;31m         \u001b[0;32mreturn\u001b[0m \u001b[0msession\u001b[0m\u001b[0;34m.\u001b[0m\u001b[0mrequest\u001b[0m\u001b[0;34m(\u001b[0m\u001b[0mmethod\u001b[0m\u001b[0;34m=\u001b[0m\u001b[0mmethod\u001b[0m\u001b[0;34m,\u001b[0m \u001b[0murl\u001b[0m\u001b[0;34m=\u001b[0m\u001b[0murl\u001b[0m\u001b[0;34m,\u001b[0m \u001b[0;34m**\u001b[0m\u001b[0mkwargs\u001b[0m\u001b[0;34m)\u001b[0m\u001b[0;34m\u001b[0m\u001b[0;34m\u001b[0m\u001b[0m\n\u001b[0m\u001b[1;32m     61\u001b[0m \u001b[0;34m\u001b[0m\u001b[0m\n\u001b[1;32m     62\u001b[0m \u001b[0;34m\u001b[0m\u001b[0m\n",
      "\u001b[0;32m~/opt/anaconda3/lib/python3.7/site-packages/requests/sessions.py\u001b[0m in \u001b[0;36mrequest\u001b[0;34m(self, method, url, params, data, headers, cookies, files, auth, timeout, allow_redirects, proxies, hooks, stream, verify, cert, json)\u001b[0m\n\u001b[1;32m    531\u001b[0m         }\n\u001b[1;32m    532\u001b[0m         \u001b[0msend_kwargs\u001b[0m\u001b[0;34m.\u001b[0m\u001b[0mupdate\u001b[0m\u001b[0;34m(\u001b[0m\u001b[0msettings\u001b[0m\u001b[0;34m)\u001b[0m\u001b[0;34m\u001b[0m\u001b[0;34m\u001b[0m\u001b[0m\n\u001b[0;32m--> 533\u001b[0;31m         \u001b[0mresp\u001b[0m \u001b[0;34m=\u001b[0m \u001b[0mself\u001b[0m\u001b[0;34m.\u001b[0m\u001b[0msend\u001b[0m\u001b[0;34m(\u001b[0m\u001b[0mprep\u001b[0m\u001b[0;34m,\u001b[0m \u001b[0;34m**\u001b[0m\u001b[0msend_kwargs\u001b[0m\u001b[0;34m)\u001b[0m\u001b[0;34m\u001b[0m\u001b[0;34m\u001b[0m\u001b[0m\n\u001b[0m\u001b[1;32m    534\u001b[0m \u001b[0;34m\u001b[0m\u001b[0m\n\u001b[1;32m    535\u001b[0m         \u001b[0;32mreturn\u001b[0m \u001b[0mresp\u001b[0m\u001b[0;34m\u001b[0m\u001b[0;34m\u001b[0m\u001b[0m\n",
      "\u001b[0;32m~/opt/anaconda3/lib/python3.7/site-packages/requests/sessions.py\u001b[0m in \u001b[0;36msend\u001b[0;34m(self, request, **kwargs)\u001b[0m\n\u001b[1;32m    638\u001b[0m \u001b[0;34m\u001b[0m\u001b[0m\n\u001b[1;32m    639\u001b[0m         \u001b[0;31m# Get the appropriate adapter to use\u001b[0m\u001b[0;34m\u001b[0m\u001b[0;34m\u001b[0m\u001b[0;34m\u001b[0m\u001b[0m\n\u001b[0;32m--> 640\u001b[0;31m         \u001b[0madapter\u001b[0m \u001b[0;34m=\u001b[0m \u001b[0mself\u001b[0m\u001b[0;34m.\u001b[0m\u001b[0mget_adapter\u001b[0m\u001b[0;34m(\u001b[0m\u001b[0murl\u001b[0m\u001b[0;34m=\u001b[0m\u001b[0mrequest\u001b[0m\u001b[0;34m.\u001b[0m\u001b[0murl\u001b[0m\u001b[0;34m)\u001b[0m\u001b[0;34m\u001b[0m\u001b[0;34m\u001b[0m\u001b[0m\n\u001b[0m\u001b[1;32m    641\u001b[0m \u001b[0;34m\u001b[0m\u001b[0m\n\u001b[1;32m    642\u001b[0m         \u001b[0;31m# Start time (approximately) of the request\u001b[0m\u001b[0;34m\u001b[0m\u001b[0;34m\u001b[0m\u001b[0;34m\u001b[0m\u001b[0m\n",
      "\u001b[0;32m~/opt/anaconda3/lib/python3.7/site-packages/requests/sessions.py\u001b[0m in \u001b[0;36mget_adapter\u001b[0;34m(self, url)\u001b[0m\n\u001b[1;32m    729\u001b[0m \u001b[0;34m\u001b[0m\u001b[0m\n\u001b[1;32m    730\u001b[0m         \u001b[0;31m# Nothing matches :-/\u001b[0m\u001b[0;34m\u001b[0m\u001b[0;34m\u001b[0m\u001b[0;34m\u001b[0m\u001b[0m\n\u001b[0;32m--> 731\u001b[0;31m         \u001b[0;32mraise\u001b[0m \u001b[0mInvalidSchema\u001b[0m\u001b[0;34m(\u001b[0m\u001b[0;34m\"No connection adapters were found for '%s'\"\u001b[0m \u001b[0;34m%\u001b[0m \u001b[0murl\u001b[0m\u001b[0;34m)\u001b[0m\u001b[0;34m\u001b[0m\u001b[0;34m\u001b[0m\u001b[0m\n\u001b[0m\u001b[1;32m    732\u001b[0m \u001b[0;34m\u001b[0m\u001b[0m\n\u001b[1;32m    733\u001b[0m     \u001b[0;32mdef\u001b[0m \u001b[0mclose\u001b[0m\u001b[0;34m(\u001b[0m\u001b[0mself\u001b[0m\u001b[0;34m)\u001b[0m\u001b[0;34m:\u001b[0m\u001b[0;34m\u001b[0m\u001b[0;34m\u001b[0m\u001b[0m\n",
      "\u001b[0;31mInvalidSchema\u001b[0m: No connection adapters were found for '1\n0   http://farm2.static.flickr.com/1005/335296068...'"
     ]
    }
   ],
   "source": [
    "from PIL import Image\n",
    "from io import BytesIO\n",
    "import numpy as np\n",
    "import matplotlib.pyplot as plt\n",
    "\n",
    "# 請用 df.loc[...] 得到第一筆資料的連結\n",
    "first_link = df.iloc[0:1,1:2]\n",
    "\n",
    "response = requests.get(first_link)\n",
    "img = Image.open(BytesIO(response.content))\n",
    "\n",
    "# Convert img to numpy array\n",
    "\n",
    "plt.imshow(img)\n",
    "plt.show()"
   ]
  },
  {
   "cell_type": "code",
   "execution_count": null,
   "metadata": {
    "collapsed": true
   },
   "outputs": [],
   "source": [
    "def img2arr_fromURLs(url_list, resize = False):\n",
    "    \"\"\"\n",
    "    請完成這個 Function\n",
    "    Args\n",
    "        - url_list: list of URLs\n",
    "        - resize: bool\n",
    "    Return\n",
    "        - list of array\n",
    "    \"\"\"\n",
    "    \n",
    "    return img_list"
   ]
  },
  {
   "cell_type": "code",
   "execution_count": null,
   "metadata": {
    "collapsed": true
   },
   "outputs": [],
   "source": [
    "result = img2arr_fromURLs(df[0:5][1].values)\n",
    "print(\"Total images that we got: %i \" % len(result)) # 如果不等於 5, 代表有些連結失效囉\n",
    "\n",
    "for im_get in result:\n",
    "    plt.imshow(im_get)\n",
    "    plt.show()"
   ]
  }
 ],
 "metadata": {
  "anaconda-cloud": {},
  "kernelspec": {
   "display_name": "Python 3",
   "language": "python",
   "name": "python3"
  },
  "language_info": {
   "codemirror_mode": {
    "name": "ipython",
    "version": 3
   },
   "file_extension": ".py",
   "mimetype": "text/x-python",
   "name": "python",
   "nbconvert_exporter": "python",
   "pygments_lexer": "ipython3",
   "version": "3.7.4-final"
  }
 },
 "nbformat": 4,
 "nbformat_minor": 1
}